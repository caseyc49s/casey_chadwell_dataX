{
 "cells": [
  {
   "cell_type": "markdown",
   "metadata": {},
   "source": [
    "# Data-X Spring 2019: Homework 7\n",
    "\n",
    "### Webscraping\n",
    "\n",
    "\n",
    "\n",
    "In this homework, you will do some exercises with web-scraping."
   ]
  },
  {
   "cell_type": "markdown",
   "metadata": {},
   "source": [
    "## Name: Casey Chadwell\n",
    "\n",
    "## SID: 3033291861\n",
    "\n"
   ]
  },
  {
   "cell_type": "markdown",
   "metadata": {},
   "source": [
    "### Fun with Webscraping & Text manipulation\n"
   ]
  },
  {
   "cell_type": "markdown",
   "metadata": {
    "collapsed": true
   },
   "source": [
    "## 1. Statistics in Presidential Debates\n",
    "\n",
    "Your first task is to scrape Presidential Debates from the Commission of Presidential Debates website: https://www.debates.org/voter-education/debate-transcripts/\n",
    "\n",
    "To do this, you are not allowed to manually look up the URLs that you need, instead you have to scrape them. The root url to be scraped is the one listed above, namely: https://www.debates.org/voter-education/debate-transcripts/\n",
    "\n",
    "\n",
    "1. By using `requests` and `BeautifulSoup` find all the links / URLs on the website that links to transcriptions of **First Presidential Debates** from the years [1988, 1984, 1976, 1960]. In total you should find 4 links / URLs that fulfill this criteria. **Print the urls.**\n",
    "\n",
    "2. When you have a list of the URLs your task is to create a Data Frame with some statistics (see example of output below):\n",
    "    1. Scrape the title of each link and use that as the column name in your Data Frame. \n",
    "    2. Count how long the transcript of the debate is (as in the number of characters in transcription string). Feel free to include `\\` characters in your count, but remove any breakline characters, i.e. `\\n`. You will get credit if your count is +/- 10% from our result.\n",
    "    3. Count how many times the word **war** was used in the different debates. Note that you have to convert the text in a smart way (to not count the word **warranty** for example, but counting **war.**, **war!**, **war,** or **War** etc.\n",
    "    4. Also scrape the most common used word in the debate, and write how many times it was used. Note that you have to use the same strategy as in C in order to do this.\n",
    "    \n",
    "    **Print your final output result.**\n",
    "    \n",
    "**Tips:**\n",
    "\n",
    "___\n",
    "\n",
    "In order to solve the questions above, it can be useful to work with Regular Expressions and explore methods on strings like `.strip(), .replace(), .find(), .count(), .lower()` etc. Both are very powerful tools to do string processing in Python. To count common words for example I used a `Counter` object and a Regular expression pattern for only words, see example:\n",
    "\n",
    "```python\n",
    "    from collections import Counter\n",
    "    import re\n",
    "\n",
    "    counts = Counter(re.findall(r\"[\\w']+\", text.lower()))\n",
    "```\n",
    "\n",
    "Read more about Regular Expressions here: https://docs.python.org/3/howto/regex.html\n",
    "    \n",
    "    \n",
    "**Example output of all of the answers to Question 1.2:**\n",
    "\n",
    "\n",
    "![pres_stats_2](https://github.com/ikhlaqsidhu/data-x/raw/master/x-archive/misc/hw2_imgs_spring2018/presidents_stats_2.jpg)\n",
    "\n",
    "\n",
    "\n",
    "----\n",
    "\n",
    ".\n",
    "\n",
    "\n"
   ]
  },
  {
   "cell_type": "code",
   "execution_count": 143,
   "metadata": {},
   "outputs": [],
   "source": [
    "import requests \n",
    "import bs4 as bs \n",
    "import pandas as pd\n",
    "import numpy as np\n",
    "import re\n",
    "from collections import Counter"
   ]
  },
  {
   "cell_type": "markdown",
   "metadata": {},
   "source": [
    "## 1.1: Links to First Presidential Debates"
   ]
  },
  {
   "cell_type": "code",
   "execution_count": 168,
   "metadata": {},
   "outputs": [
    {
     "name": "stdout",
     "output_type": "stream",
     "text": [
      "1988 : https://www.debates.org/voter-education/debate-transcripts/september-25-1988-debate-transcript/\n",
      "1984 : https://www.debates.org/voter-education/debate-transcripts/october-7-1984-debate-transcript/\n",
      "1976 : https://www.debates.org/voter-education/debate-transcripts/september-23-1976-debate-transcript/\n",
      "1960 : https://www.debates.org/voter-education/debate-transcripts/september-26-1960-debate-transcript/\n"
     ]
    }
   ],
   "source": [
    "source = requests.get(\"https://www.debates.org/voter-education/debate-transcripts/\") \n",
    "soup = bs.BeautifulSoup(source.content, features='html.parser') \n",
    "all_a = soup.find_all('a')\n",
    "\n",
    "links_to_years = []\n",
    "titles = []\n",
    "\n",
    "for a in all_a:\n",
    "    if re.search(r'(1988|1984|1976|1960): The First', a.contents[0]):\n",
    "        link = a.get('href')\n",
    "        links_to_years.append(link)\n",
    "        titles.append(a.contents[0])\n",
    "        \n",
    "for link in links_to_years:\n",
    "    print(re.findall(r'(1988|1984|1976|1960)', link)[0], ': https://www.debates.org' + link)"
   ]
  },
  {
   "cell_type": "markdown",
   "metadata": {},
   "source": [
    "## 1.2: Data Frame and Statistics"
   ]
  },
  {
   "cell_type": "markdown",
   "metadata": {},
   "source": [
    "##### A. titles as columns"
   ]
  },
  {
   "cell_type": "code",
   "execution_count": 169,
   "metadata": {},
   "outputs": [
    {
     "data": {
      "text/plain": [
       "['September 25, 1988: The First Bush-Dukakis Presidential Debate',\n",
       " 'October 7, 1984: The First Reagan-Mondale Presidential Debate',\n",
       " 'September 23, 1976: The First Carter-Ford Presidential Debate',\n",
       " 'September 26, 1960: The First Kennedy-Nixon Presidential Debate']"
      ]
     },
     "execution_count": 169,
     "metadata": {},
     "output_type": "execute_result"
    }
   ],
   "source": [
    "# got titles above in for loop\n",
    "titles"
   ]
  },
  {
   "cell_type": "markdown",
   "metadata": {},
   "source": [
    "B. Count how long the transcript of the debate is (as in the number of characters in transcription string). Feel free to include \\ characters in your count, but remove any breakline characters, i.e. \\n. You will get credit if your count is +/- 10% from our result.\n",
    "\n"
   ]
  },
  {
   "cell_type": "code",
   "execution_count": 170,
   "metadata": {},
   "outputs": [
    {
     "data": {
      "text/plain": [
       "[87488, 86505, 80735, 60937]"
      ]
     },
     "execution_count": 170,
     "metadata": {},
     "output_type": "execute_result"
    }
   ],
   "source": [
    "def get_char_count(url, div_id):\n",
    "    source = requests.get(url)\n",
    "    soup = bs.BeautifulSoup(source.content, features='html.parser')\n",
    "    all_divs = soup.find(id = div_id).text\n",
    "    return(len(str(all_divs).replace('\\n', '')))\n",
    "\n",
    "counts = []\n",
    "\n",
    "for link in links_to_years:\n",
    "    counts.append(get_char_count('https://www.debates.org' + link, 'content-sm'))\n",
    "\n",
    "counts"
   ]
  },
  {
   "cell_type": "markdown",
   "metadata": {},
   "source": [
    "C. Count how many times the word war was used in the different debates. Note that you have to convert the text in a smart way (to not count the word warranty for example, but counting war., war!, war, or War etc."
   ]
  },
  {
   "cell_type": "code",
   "execution_count": 172,
   "metadata": {},
   "outputs": [
    {
     "data": {
      "text/plain": [
       "[7, 2, 5, 3]"
      ]
     },
     "execution_count": 172,
     "metadata": {},
     "output_type": "execute_result"
    }
   ],
   "source": [
    "def get_war_count(url, div_id):\n",
    "    source = requests.get(url)\n",
    "    soup = bs.BeautifulSoup(source.content, features='html.parser')\n",
    "    all_divs = soup.find(id = div_id).text\n",
    "    return(len(re.findall(' war ', re.sub(r\"[^\\w\\s]+?\", \"\", str(all_divs).lower()))))\n",
    "\n",
    "war_counts = []\n",
    "\n",
    "for link in links_to_years:\n",
    "    war_counts.append(get_war_count('https://www.debates.org' + link, 'content-sm'))\n",
    "\n",
    "war_counts"
   ]
  },
  {
   "cell_type": "markdown",
   "metadata": {},
   "source": [
    "D. Also scrape the most common used word in the debate, and write how many times it was used. Note that you have to use the same strategy as in C in order to do this."
   ]
  },
  {
   "cell_type": "code",
   "execution_count": 173,
   "metadata": {},
   "outputs": [
    {
     "name": "stdout",
     "output_type": "stream",
     "text": [
      "['the', 'the', 'the', 'the']\n",
      "[799, 867, 856, 779]\n"
     ]
    }
   ],
   "source": [
    "def get_common_count(url, div_id):\n",
    "    source = requests.get(url)\n",
    "    soup = bs.BeautifulSoup(source.content, features='html.parser')\n",
    "    all_divs = soup.find(id = div_id).text\n",
    "    words = re.findall('\\w+', re.sub(r\"[^\\w\\s]+?\", \"\", str(all_divs).lower()))\n",
    "    Counter(words).most_common(10)\n",
    "    return(Counter(words).most_common(1))\n",
    "    \n",
    "\n",
    "common_w = []\n",
    "common_c = []\n",
    "\n",
    "for link in links_to_years:\n",
    "    common = get_common_count('https://www.debates.org' + link, 'content-sm')\n",
    "    common_w.append(common[0][0])\n",
    "    common_c.append(common[0][1])\n",
    "\n",
    "print(common_w)\n",
    "print(common_c)"
   ]
  },
  {
   "cell_type": "markdown",
   "metadata": {},
   "source": [
    "#### 1.2 End Solution: Data Frame"
   ]
  },
  {
   "cell_type": "code",
   "execution_count": 174,
   "metadata": {},
   "outputs": [
    {
     "data": {
      "text/html": [
       "<div>\n",
       "<style scoped>\n",
       "    .dataframe tbody tr th:only-of-type {\n",
       "        vertical-align: middle;\n",
       "    }\n",
       "\n",
       "    .dataframe tbody tr th {\n",
       "        vertical-align: top;\n",
       "    }\n",
       "\n",
       "    .dataframe thead th {\n",
       "        text-align: right;\n",
       "    }\n",
       "</style>\n",
       "<table border=\"1\" class=\"dataframe\">\n",
       "  <thead>\n",
       "    <tr style=\"text-align: right;\">\n",
       "      <th></th>\n",
       "      <th>September 25, 1988: The First Bush-Dukakis Presidential Debate</th>\n",
       "      <th>October 7, 1984: The First Reagan-Mondale Presidential Debate</th>\n",
       "      <th>September 23, 1976: The First Carter-Ford Presidential Debate</th>\n",
       "      <th>September 26, 1960: The First Kennedy-Nixon Presidential Debate</th>\n",
       "    </tr>\n",
       "  </thead>\n",
       "  <tbody>\n",
       "    <tr>\n",
       "      <th>Debate char length</th>\n",
       "      <td>87488</td>\n",
       "      <td>86505</td>\n",
       "      <td>80735</td>\n",
       "      <td>60937</td>\n",
       "    </tr>\n",
       "    <tr>\n",
       "      <th>war_count</th>\n",
       "      <td>7</td>\n",
       "      <td>2</td>\n",
       "      <td>5</td>\n",
       "      <td>3</td>\n",
       "    </tr>\n",
       "    <tr>\n",
       "      <th>most_common_w</th>\n",
       "      <td>the</td>\n",
       "      <td>the</td>\n",
       "      <td>the</td>\n",
       "      <td>the</td>\n",
       "    </tr>\n",
       "    <tr>\n",
       "      <th>most_common_w_count</th>\n",
       "      <td>799</td>\n",
       "      <td>867</td>\n",
       "      <td>856</td>\n",
       "      <td>779</td>\n",
       "    </tr>\n",
       "  </tbody>\n",
       "</table>\n",
       "</div>"
      ],
      "text/plain": [
       "                    September 25, 1988: The First Bush-Dukakis Presidential Debate  \\\n",
       "Debate char length                                               87488               \n",
       "war_count                                                            7               \n",
       "most_common_w                                                      the               \n",
       "most_common_w_count                                                799               \n",
       "\n",
       "                    October 7, 1984: The First Reagan-Mondale Presidential Debate  \\\n",
       "Debate char length                                               86505              \n",
       "war_count                                                            2              \n",
       "most_common_w                                                      the              \n",
       "most_common_w_count                                                867              \n",
       "\n",
       "                    September 23, 1976: The First Carter-Ford Presidential Debate  \\\n",
       "Debate char length                                               80735              \n",
       "war_count                                                            5              \n",
       "most_common_w                                                      the              \n",
       "most_common_w_count                                                856              \n",
       "\n",
       "                    September 26, 1960: The First Kennedy-Nixon Presidential Debate  \n",
       "Debate char length                                               60937               \n",
       "war_count                                                            3               \n",
       "most_common_w                                                      the               \n",
       "most_common_w_count                                                779               "
      ]
     },
     "execution_count": 174,
     "metadata": {},
     "output_type": "execute_result"
    }
   ],
   "source": [
    "pd.DataFrame(data = [counts, war_counts, common_w, common_c], columns = titles, index = ['Debate char length', 'war_count', 'most_common_w', 'most_common_w_count'])"
   ]
  },
  {
   "cell_type": "markdown",
   "metadata": {},
   "source": [
    "    \n",
    "## 2. Download and read in specific line from many data sets\n",
    "\n",
    "Scrape the first 27 data sets from this URL http://people.sc.fsu.edu/~jburkardt/datasets/regression/ (i.e.`x01.txt` - `x27.txt`). Then, save the 5th line in each data set, this should be the name of the data set author (get rid of the `#` symbol, the white spaces and the comma at the end). \n",
    "\n",
    "Count how many times (with a Python function) each author is the reference for one of the 27 data sets. Showcase your results, sorted, with the most common author name first and how many times he appeared in data sets. Use a Pandas DataFrame to show your results, see example. **Print your final output result.**\n",
    "\n",
    "**Example output of the answer for Question 2:**\n",
    "\n",
    "![author_stats](https://github.com/ikhlaqsidhu/data-x/raw/master/x-archive/misc/hw2_imgs_spring2018/data_authors.png)\n"
   ]
  },
  {
   "cell_type": "code",
   "execution_count": 208,
   "metadata": {},
   "outputs": [
    {
     "name": "stdout",
     "output_type": "stream",
     "text": [
      "[]\n"
     ]
    }
   ],
   "source": [
    "base_link = \"http://people.sc.fsu.edu/~jburkardt/datasets/regression/\"\n",
    "source = requests.get(base_link) \n",
    "soup = bs.BeautifulSoup(source.content, features='html.parser') \n",
    "all_a = soup.find_all('a')\n",
    "\n",
    "links_to_data = []\n",
    "lines = []\n",
    "\n",
    "for a in all_a:\n",
    "    if re.search(r'(x[0-1][0-9].txt)|(x2[0-7].txt)', a.contents[0]):\n",
    "        lines = []\n",
    "        link = a.get('href')\n",
    "        links_to_data.append(base_link + link)\n",
    "\n",
    "for link in links_to_data:\n",
    "    source = requests.get(link) \n",
    "    soup = bs.BeautifulSoup(source.content, features='html.parser') \n",
    "line_5 = re.findall('#.*#', str(soup.text))\n",
    "lines.append(line_5)\n",
    "print(line_5)"
   ]
  },
  {
   "cell_type": "code",
   "execution_count": 209,
   "metadata": {},
   "outputs": [
    {
     "name": "stdout",
     "output_type": "stream",
     "text": [
      "[]\n"
     ]
    }
   ],
   "source": [
    "line_5 = re.findall('#.*#', str(soup.text))\n",
    "lines.append(line_5)\n",
    "print(line_5)"
   ]
  },
  {
   "cell_type": "code",
   "execution_count": 193,
   "metadata": {},
   "outputs": [
    {
     "data": {
      "text/plain": [
       "'#  x27.txt\\n#\\n#  Reference:\\n#\\n#    S C Narula, J F Wellington,\\n#    Linear Regression and the Minimum Sum of Relative Errors,\\n#    Technometrics, Volume 19, 1977, pages 185-190.\\n#\\n#    Helmut Spaeth,\\n#    Mathematical Algorithms for Linear Regression,\\n#    Academic Press, 1991,\\n#    ISBN 0-12-656460-4.\\n#\\n#  Discussion:\\n#\\n#    The selling price of houses is to be represented as a function of\\n#    other variables.\\n#\\n#    There are 28 rows of data.  The data includes:\\n#\\n#      I,   the index;\\n#      A0,  1;\\n#      A1,  the local selling prices, in hundreds of dollars;\\n#      A2,  the number of bathrooms;\\n#      A3,  the area of the site in thousands of square feet;\\n#      A4,  the size of the living space in thousands of square feet;\\n#      A5,  the number of garages;\\n#      A6,  the number of rooms;\\n#      A7,  the number of bedrooms;\\n#      A8,  the age in years;\\n#      A9,  1 = brick, 2 = brick/wood, 3 = aluminum/wood, 4 = wood.\\n#      A10, 1 = two story, 2 = split level, 3 = ranch\\n#      A11, number of fire places.\\n#      B,   the selling price.\\n#\\n#    We seek a model of the form:\\n#\\n#      B = A0 * X0 + A1 * X1 + A2 * X2 + A3 * X3 +  A4 *  X4 +  A5 *  X5 \\n#        + A6 * X6 + A7 * X7 + A8 * X8 + A9 * X9 + A10 * X10 + A11 * X11\\n# \\n14 columns\\n28 rows\\nIndex\\nA0, One\\nA1, the local selling prices, in hundreds of dollars;\\nA2, the number of bathrooms;\\nA3, the area of the site in thousands of square feet;\\nA4, the size of the living space in thousands of square feet;\\nA5, the number of garages;\\nA6, the number of rooms;\\nA7, the number of bedrooms;\\nA8, the age in years;\\nA9, construction type\\nA10, architecture type\\nA11, number of fire places.\\nB, selling price \\n 1  1   4.9176  1.0   3.4720  0.998   1.0   7  4  42  3  1  0  25.9\\n 2  1   5.0208  1.0   3.5310  1.500   2.0   7  4  62  1  1  0  29.5\\n 3  1   4.5429  1.0   2.2750  1.175   1.0   6  3  40  2  1  0  27.9\\n 4  1   4.5573  1.0   4.0500  1.232   1.0   6  3  54  4  1  0  25.9\\n 5  1   5.0597  1.0   4.4550  1.121   1.0   6  3  42  3  1  0  29.9\\n 6  1   3.8910  1.0   4.4550  0.988   1.0   6  3  56  2  1  0  29.9\\n 7  1   5.8980  1.0   5.8500  1.240   1.0   7  3  51  2  1  1  30.9\\n 8  1   5.6039  1.0   9.5200  1.501   0.0   6  3  32  1  1  0  28.9\\n 9  1  16.4202  2.5   9.8000  3.420   2.0  10  5  42  2  1  1  84.9\\n10  1  14.4598  2.5  12.8000  3.000   2.0   9  5  14  4  1  1  82.9\\n11  1   5.8282  1.0   6.4350  1.225   2.0   6  3  32  1  1  0  35.9\\n12  1   5.3003  1.0   4.9883  1.552   1.0   6  3  30  1  2  0  31.5\\n13  1   6.2712  1.0   5.5200  0.975   1.0   5  2  30  1  2  0  31.0\\n14  1   5.9592  1.0   6.6660  1.121   2.0   6  3  32  2  1  0  30.9\\n15  1   5.0500  1.0   5.0000  1.020   0.0   5  2  46  4  1  1  30.0\\n16  1   5.6039  1.0   9.5200  1.501   0.0   6  3  32  1  1  0  28.9\\n17  1   8.2464  1.5   5.1500  1.664   2.0   8  4  50  4  1  0  36.9\\n18  1   6.6969  1.5   6.9020  1.488   1.5   7  3  22  1  1  1  41.9\\n19  1   7.7841  1.5   7.1020  1.376   1.0   6  3  17  2  1  0  40.5\\n20  1   9.0384  1.0   7.8000  1.500   1.5   7  3  23  3  3  0  43.9\\n21  1   5.9894  1.0   5.5200  1.256   2.0   6  3  40  4  1  1  37.5\\n22  1   7.5422  1.5   4.0000  1.690   1.0   6  3  22  1  1  0  37.9\\n23  1   8.7951  1.5   9.8900  1.820   2.0   8  4  50  1  1  1  44.5\\n24  1   6.0931  1.5   6.7265  1.652   1.0   6  3  44  4  1  0  37.9\\n25  1   8.3607  1.5   9.1500  1.777   2.0   8  4  48  1  1  1  38.9\\n26  1   8.1400  1.0   8.0000  1.504   2.0   7  3   3  1  3  0  36.9\\n27  1   9.1416  1.5   7.3262  1.831   1.5   8  4  31  4  1  0  45.8\\n28  1  12.0000  1.5   5.0000  1.200   2.0   6  3  30  3  1  1  41.0\\n\\n'"
      ]
     },
     "execution_count": 193,
     "metadata": {},
     "output_type": "execute_result"
    }
   ],
   "source": [
    "for author in line_5:\n",
    "    counter()\n",
    "    \n"
   ]
  },
  {
   "cell_type": "code",
   "execution_count": null,
   "metadata": {},
   "outputs": [],
   "source": [
    "https://github.com/caseyc49s/casey_chadwell_dataX/blob/master/HW7%20-%20Webscraping.ipynb"
   ]
  }
 ],
 "metadata": {
  "kernel_info": {
   "name": "data-x"
  },
  "kernelspec": {
   "display_name": "Python 3",
   "language": "python",
   "name": "python3"
  },
  "language_info": {
   "codemirror_mode": {
    "name": "ipython",
    "version": 3
   },
   "file_extension": ".py",
   "mimetype": "text/x-python",
   "name": "python",
   "nbconvert_exporter": "python",
   "pygments_lexer": "ipython3",
   "version": "3.7.1"
  },
  "nteract": {
   "version": "0.7.1"
  }
 },
 "nbformat": 4,
 "nbformat_minor": 2
}
